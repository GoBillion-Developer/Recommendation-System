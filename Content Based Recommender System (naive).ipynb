{
 "cells": [
  {
   "cell_type": "code",
   "execution_count": 1,
   "metadata": {},
   "outputs": [],
   "source": [
    "import pandas as pd\n",
    "from sklearn.feature_extraction.text import TfidfVectorizer\n",
    "from sklearn.metrics.pairwise import linear_kernel \n",
    "ds = pd.read_csv(\"sample-data.csv\")\n",
    "\n",
    "tf = TfidfVectorizer(analyzer='word', ngram_range=(1, 3), min_df=0, stop_words='english')\n",
    "tfidf_matrix = tf.fit_transform(ds['description'])\n",
    "\n",
    "cosine_similarities = linear_kernel(tfidf_matrix, tfidf_matrix) \n",
    "results = {}\n",
    "for idx, row in ds.iterrows():\n",
    "   similar_indices = cosine_similarities[idx].argsort()[:-100:-1] \n",
    "   similar_items = [(cosine_similarities[idx][i], ds['id'][i]) for i in similar_indices] \n",
    "   results[row['id']] = similar_items[1:]\n",
    "\n",
    "def item(id):  \n",
    "  return ds.loc[ds['id'] == id]['description'].tolist()[0].split(' - ')[0] \n",
    "# Just reads the results out of the dictionary.def \n",
    "def recommend(item_id, num):\n",
    "    print(\"Recommending \" + str(num) + \" products similar to \" + item(item_id) + \"...\")   \n",
    "    print(\"-------\")    \n",
    "    recs = results[item_id][:num]   \n",
    "    for rec in recs: \n",
    "       print(\"Recommended: \" + item(rec[1]) + \" (score:\" +      str(rec[0]) + \")\")\n"
   ]
  },
  {
   "cell_type": "code",
   "execution_count": 2,
   "metadata": {},
   "outputs": [
    {
     "name": "stdout",
     "output_type": "stream",
     "text": [
      "Recommending 5 products similar to Better sweater jkt...\n",
      "-------\n",
      "Recommended: Better sweater jkt (score:0.382094119021023)\n",
      "Recommended: Synch vest (score:0.12173888284287249)\n",
      "Recommended: Araveto jkt (score:0.11882679419455668)\n",
      "Recommended: Araveto 1/4 zip jkt (score:0.11628244300105794)\n",
      "Recommended: Pique fleece 1/4 zip (score:0.1093138848644366)\n"
     ]
    }
   ],
   "source": [
    "recommend(item_id=14, num=5)"
   ]
  },
  {
   "cell_type": "code",
   "execution_count": null,
   "metadata": {},
   "outputs": [],
   "source": [
    "\n"
   ]
  }
 ],
 "metadata": {
  "kernelspec": {
   "display_name": "Python 3",
   "language": "python",
   "name": "python3"
  },
  "language_info": {
   "codemirror_mode": {
    "name": "ipython",
    "version": 3
   },
   "file_extension": ".py",
   "mimetype": "text/x-python",
   "name": "python",
   "nbconvert_exporter": "python",
   "pygments_lexer": "ipython3",
   "version": "3.8.2"
  }
 },
 "nbformat": 4,
 "nbformat_minor": 4
}
